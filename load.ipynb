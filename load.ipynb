{
 "cells": [
  {
   "cell_type": "code",
   "execution_count": 17,
   "metadata": {},
   "outputs": [],
   "source": [
    "from dotenv import load_dotenv\n",
    "load_dotenv()\n",
    "import os\n",
    "from openai import OpenAI\n",
    "from pinecone import Pinecone, ServerlessSpec"
   ]
  },
  {
   "cell_type": "code",
   "execution_count": 5,
   "metadata": {},
   "outputs": [],
   "source": [
    "pc = Pinecone(Api_Key=os.getenv(\"PINECONE_API_KEY\"))\n",
    "pc.create_index(\n",
    "    name=\"rag\", dimension=1536, metric=\"cosine\", spec=ServerlessSpec(cloud=\"aws\", region=\"us-east-1\")\n",
    ")"
   ]
  },
  {
   "cell_type": "code",
   "execution_count": 7,
   "metadata": {},
   "outputs": [
    {
     "data": {
      "text/plain": [
       "[{'professor': 'Dr. John Smith',\n",
       "  'subject': 'CS101: Introduction to Programming',\n",
       "  'stars': 5,\n",
       "  'review': 'Excellent professor with clear and concise lectures. Highly recommended!'},\n",
       " {'professor': 'Dr. Emily Johnson',\n",
       "  'subject': 'MATH150: Calculus I',\n",
       "  'stars': 4,\n",
       "  'review': 'Very knowledgeable and approachable, but the exams are tough.'},\n",
       " {'professor': 'Dr. Michael Davis',\n",
       "  'subject': 'HIST101: World History I',\n",
       "  'stars': 3,\n",
       "  'review': 'Interesting lectures but heavy reading load.'},\n",
       " {'professor': 'Dr. Sarah Lee',\n",
       "  'subject': 'PHYS101: General Physics',\n",
       "  'stars': 5,\n",
       "  'review': 'Dr. Lee explains complex concepts very clearly. Great professor!'},\n",
       " {'professor': 'Dr. Robert Brown',\n",
       "  'subject': 'CHEM101: General Chemistry',\n",
       "  'stars': 4,\n",
       "  'review': 'Good teacher, but the lab work is intense.'},\n",
       " {'professor': 'Dr. Karen Taylor',\n",
       "  'subject': 'PSY101: Introduction to Psychology',\n",
       "  'stars': 4,\n",
       "  'review': 'Engaging and insightful lectures. Participation is encouraged.'},\n",
       " {'professor': 'Dr. William Harris',\n",
       "  'subject': 'BIO101: Introduction to Biology',\n",
       "  'stars': 3,\n",
       "  'review': 'Challenging course, but Dr. Harris is very helpful during office hours.'},\n",
       " {'professor': 'Dr. Jennifer Clark',\n",
       "  'subject': 'ENGL101: English Composition',\n",
       "  'stars': 5,\n",
       "  'review': 'Great professor who provides detailed feedback on essays.'},\n",
       " {'professor': 'Dr. David Martin',\n",
       "  'subject': 'ECON101: Principles of Economics',\n",
       "  'stars': 2,\n",
       "  'review': 'Lectures are dry and hard to follow. Exams are difficult.'},\n",
       " {'professor': 'Dr. Linda Lewis',\n",
       "  'subject': 'SOC101: Introduction to Sociology',\n",
       "  'stars': 4,\n",
       "  'review': 'Interesting and relevant topics. Dr. Lewis makes the class enjoyable.'},\n",
       " {'professor': 'Dr. Thomas Young',\n",
       "  'subject': 'PHIL101: Introduction to Philosophy',\n",
       "  'stars': 3,\n",
       "  'review': 'Thought-provoking lectures, but the grading is tough.'},\n",
       " {'professor': 'Dr. Barbara Adams',\n",
       "  'subject': 'ART101: Art History',\n",
       "  'stars': 5,\n",
       "  'review': 'Passionate about art and very knowledgeable. A must-take course!'},\n",
       " {'professor': 'Dr. Charles Walker',\n",
       "  'subject': 'MATH250: Linear Algebra',\n",
       "  'stars': 4,\n",
       "  'review': 'Challenging but rewarding course. Dr. Walker is an excellent teacher.'},\n",
       " {'professor': 'Dr. Nancy Robinson',\n",
       "  'subject': 'CS201: Algorithms',\n",
       "  'stars': 5,\n",
       "  'review': \"Dr. Robinson's explanations are top-notch. Best CS course I've taken.\"},\n",
       " {'professor': 'Dr. Kevin Hall',\n",
       "  'subject': 'HIST202: American History',\n",
       "  'stars': 3,\n",
       "  'review': 'Interesting content, but the lectures can be monotonous.'},\n",
       " {'professor': 'Dr. Jessica Moore',\n",
       "  'subject': 'PSY201: Developmental Psychology',\n",
       "  'stars': 4,\n",
       "  'review': 'Great professor, but make sure to keep up with the readings.'},\n",
       " {'professor': 'Dr. Daniel Allen',\n",
       "  'subject': 'CHEM202: Organic Chemistry',\n",
       "  'stars': 2,\n",
       "  'review': 'Extremely difficult course. Dr. Allen is knowledgeable but not the best at explaining.'},\n",
       " {'professor': 'Dr. Laura Scott',\n",
       "  'subject': 'BIO202: Genetics',\n",
       "  'stars': 4,\n",
       "  'review': 'Interesting material and Dr. Scott is very passionate about the subject.'},\n",
       " {'professor': 'Dr. James Perez',\n",
       "  'subject': 'MATH350: Differential Equations',\n",
       "  'stars': 5,\n",
       "  'review': 'One of the best math professors. Explains complex topics clearly.'},\n",
       " {'professor': 'Dr. Patricia King',\n",
       "  'subject': 'ENGL202: American Literature',\n",
       "  'stars': 4,\n",
       "  'review': 'Engaging discussions and well-structured lectures.'}]"
      ]
     },
     "execution_count": 7,
     "metadata": {},
     "output_type": "execute_result"
    }
   ],
   "source": [
    "import json\n",
    "data = json.load(open(\"reviews.json\"))\n",
    "data['reviews']"
   ]
  },
  {
   "cell_type": "code",
   "execution_count": 18,
   "metadata": {},
   "outputs": [],
   "source": [
    "processed_data = []\n",
    "client = OpenAI(api_key=os.getenv(\"OPENAI_API_KEY\"))\n",
    "\n",
    "for review in data['reviews']:\n",
    "    response = client.embeddings.create(\n",
    "        input=review['review'],\n",
    "        model=\"text-embedding-3-small\"\n",
    "    )\n",
    "    embedding = response.data[0].embedding\n",
    "    processed_data.append({\n",
    "        \"values\": embedding,\n",
    "        \"id\": review['professor'],\n",
    "        \"metadata\": {\n",
    "            \"review\": review['review'],\n",
    "            \"subject\": review['subject'],\n",
    "            \"stars\": review['stars']\n",
    "        }\n",
    "    })\n",
    "    "
   ]
  },
  {
   "cell_type": "code",
   "execution_count": 20,
   "metadata": {},
   "outputs": [
    {
     "data": {
      "text/plain": [
       "{'upserted_count': 20}"
      ]
     },
     "execution_count": 20,
     "metadata": {},
     "output_type": "execute_result"
    }
   ],
   "source": [
    "index = pc.Index('rag')\n",
    "index.upsert(\n",
    "    vectors=processed_data,\n",
    "    namespace='ns1'\n",
    ")"
   ]
  },
  {
   "cell_type": "code",
   "execution_count": 21,
   "metadata": {},
   "outputs": [
    {
     "data": {
      "text/plain": [
       "{'dimension': 1536,\n",
       " 'index_fullness': 0.0,\n",
       " 'namespaces': {'ns1': {'vector_count': 20}},\n",
       " 'total_vector_count': 20}"
      ]
     },
     "execution_count": 21,
     "metadata": {},
     "output_type": "execute_result"
    }
   ],
   "source": [
    "index.describe_index_stats()"
   ]
  }
 ],
 "metadata": {
  "kernelspec": {
   "display_name": "env",
   "language": "python",
   "name": "python3"
  },
  "language_info": {
   "codemirror_mode": {
    "name": "ipython",
    "version": 3
   },
   "file_extension": ".py",
   "mimetype": "text/x-python",
   "name": "python",
   "nbconvert_exporter": "python",
   "pygments_lexer": "ipython3",
   "version": "3.11.1"
  }
 },
 "nbformat": 4,
 "nbformat_minor": 2
}
